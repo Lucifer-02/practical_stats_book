{
 "cells": [
  {
   "cell_type": "code",
   "execution_count": 3,
   "id": "d7af54d1-ad6f-49fd-b202-c287eff41840",
   "metadata": {},
   "outputs": [],
   "source": [
    "import mymodule\n",
    "import numpy as np"
   ]
  },
  {
   "cell_type": "code",
   "execution_count": 2,
   "id": "ce149f57-48d0-42b4-9c52-2084ab96d56c",
   "metadata": {},
   "outputs": [
    {
     "data": {
      "text/plain": [
       "38.333333333333336"
      ]
     },
     "execution_count": 2,
     "metadata": {},
     "output_type": "execute_result"
    }
   ],
   "source": [
    "mymodule.mean_list([12,3,100])"
   ]
  },
  {
   "cell_type": "code",
   "execution_count": 4,
   "id": "83d6b5a7-2485-4992-a81d-f7506c2709c8",
   "metadata": {},
   "outputs": [
    {
     "data": {
      "text/plain": [
       "38.333333333333336"
      ]
     },
     "execution_count": 4,
     "metadata": {},
     "output_type": "execute_result"
    }
   ],
   "source": [
    "np.mean([12,3,100])"
   ]
  }
 ],
 "metadata": {
  "kernelspec": {
   "display_name": "Python 3 (ipykernel)",
   "language": "python",
   "name": "python3"
  },
  "language_info": {
   "codemirror_mode": {
    "name": "ipython",
    "version": 3
   },
   "file_extension": ".py",
   "mimetype": "text/x-python",
   "name": "python",
   "nbconvert_exporter": "python",
   "pygments_lexer": "ipython3",
   "version": "3.11.7"
  }
 },
 "nbformat": 4,
 "nbformat_minor": 5
}
